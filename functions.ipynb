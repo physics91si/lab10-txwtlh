{
 "cells": [
  {
   "cell_type": "code",
   "execution_count": 19,
   "metadata": {},
   "outputs": [],
   "source": [
    "from functools import reduce"
   ]
  },
  {
   "cell_type": "code",
   "execution_count": 26,
   "metadata": {},
   "outputs": [
    {
     "name": "stdout",
     "output_type": "stream",
     "text": [
      "[1, 4, 9, 16, 25, 36, 49, 64, 81, 100]\n",
      "[1, 4, 9, 16, 25, 36, 49, 64, 81, 100]\n",
      "120\n",
      "['test1', 'test2', 'test3']\n",
      "['test1', 'test2']\n"
     ]
    }
   ],
   "source": [
    "# Squares\n",
    "squares1 = [x**2 for x in range(1, 11)]\n",
    "squares2 = list(map(lambda x: x**2, range(1, 11)))\n",
    "print(squares1)\n",
    "print(squares2)\n",
    "\n",
    "# Products\n",
    "products = reduce(lambda x,y: x*y, range(1,6))\n",
    "print(products)\n",
    "\n",
    "# Filenames\n",
    "files = \"test1.py test2.py test3.py\"\n",
    "files2 = \"test1.py test2.py test3.cpp\"\n",
    "filenames = [x[:len(x)-3] for x in files.split(\" \") if x[len(x)-3:] == \".py\"]\n",
    "filenames2 = [x[:len(x)-3] for x in files2.split(\" \") if x[len(x)-3:] == \".py\"]\n",
    "print(filenames)\n",
    "print(filenames2)"
   ]
  },
  {
   "cell_type": "code",
   "execution_count": null,
   "metadata": {},
   "outputs": [],
   "source": []
  }
 ],
 "metadata": {
  "kernelspec": {
   "display_name": "Python 3",
   "language": "python",
   "name": "python3"
  },
  "language_info": {
   "codemirror_mode": {
    "name": "ipython",
    "version": 3
   },
   "file_extension": ".py",
   "mimetype": "text/x-python",
   "name": "python",
   "nbconvert_exporter": "python",
   "pygments_lexer": "ipython3",
   "version": "3.6.4"
  }
 },
 "nbformat": 4,
 "nbformat_minor": 2
}
