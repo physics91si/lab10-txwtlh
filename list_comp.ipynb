{
 "cells": [
  {
   "cell_type": "code",
   "execution_count": 6,
   "metadata": {},
   "outputs": [],
   "source": [
    "import string"
   ]
  },
  {
   "cell_type": "code",
   "execution_count": 53,
   "metadata": {},
   "outputs": [
    {
     "name": "stdout",
     "output_type": "stream",
     "text": [
      "['a', 'b', 'c', 'd', 'e', 'f', 'g', 'h', 'i', 'j']\n",
      "['a', 'b', 'c', 'd', 'e', 'g', 'h', 'i', 'j']\n",
      "['a', 'aa', 'aaa', 'b', 'bb', 'bbb', 'c', 'cc', 'ccc', 'd', 'dd', 'ddd', 'e', 'ee', 'eee', 'g', 'gg', 'ggg', 'h', 'hh', 'hhh', 'i', 'ii', 'iii', 'j', 'jj', 'jjj']\n",
      "[['a', 'aa', 'aaa'], ['b', 'bb', 'bbb'], ['c', 'cc', 'ccc'], ['d', 'dd', 'ddd'], ['e', 'ee', 'eee'], ['g', 'gg', 'ggg'], ['h', 'hh', 'hhh'], ['i', 'ii', 'iii'], ['j', 'jj', 'jjj']]\n",
      "[['A', 'aa', 'aaa'], ['b', 'B', 'bbb'], ['c', 'cc', 'C'], ['D', 'dd', 'ddd'], ['e', 'E', 'eee'], ['g', 'gg', 'G'], ['H', 'hh', 'hhh'], ['i', 'I', 'iii'], ['j', 'jj', 'J']]\n"
     ]
    }
   ],
   "source": [
    "alphabet = list(string.ascii_lowercase) #list of letters\n",
    "\n",
    "# First 10 letters\n",
    "first_10 = [x for i, x in enumerate(alphabet) if i < 10]\n",
    "# first_10 = alphabet[:10] <--Technically this is better?-->\n",
    "print(first_10)\n",
    "\n",
    "# First 10 letters, except 6th\n",
    "first_10_but_6 = [x for i, x in enumerate(first_10) if i != 5]\n",
    "print(first_10_but_6)\n",
    "\n",
    "# Repeat 1, 2, 3 times\n",
    "grid = [[x, x+x, x+x+x] for x in first_10_but_6]\n",
    "repeat_first = [y for x in grid for y in x]\n",
    "print(repeat_first)\n",
    "\n",
    "# Repeat in grid\n",
    "print(grid)\n",
    "\n",
    "# Grid, mod 3 is uppercase\n",
    "repeat_mod = [y if i%3!=j else y[0].upper() for i,x in enumerate(grid) for j,y in enumerate(x)]\n",
    "grid_mod = [repeat_mod[x:x+3] for x in range(0, len(repeat_mod), 3)]\n",
    "print(grid_mod)"
   ]
  },
  {
   "cell_type": "code",
   "execution_count": null,
   "metadata": {},
   "outputs": [],
   "source": []
  }
 ],
 "metadata": {
  "kernelspec": {
   "display_name": "Python 3",
   "language": "python",
   "name": "python3"
  },
  "language_info": {
   "codemirror_mode": {
    "name": "ipython",
    "version": 3
   },
   "file_extension": ".py",
   "mimetype": "text/x-python",
   "name": "python",
   "nbconvert_exporter": "python",
   "pygments_lexer": "ipython3",
   "version": "3.6.4"
  }
 },
 "nbformat": 4,
 "nbformat_minor": 2
}
